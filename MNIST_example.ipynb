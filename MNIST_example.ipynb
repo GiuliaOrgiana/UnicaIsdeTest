{
  "nbformat": 4,
  "nbformat_minor": 0,
  "metadata": {
    "colab": {
      "name": "MNIST-example.ipynb",
      "provenance": [],
      "authorship_tag": "ABX9TyOW7Axs06AByhlKhfKARxp4",
      "include_colab_link": true
    },
    "kernelspec": {
      "name": "python3",
      "display_name": "Python 3"
    },
    "language_info": {
      "name": "python"
    }
  },
  "cells": [
    {
      "cell_type": "markdown",
      "metadata": {
        "id": "view-in-github",
        "colab_type": "text"
      },
      "source": [
        "<a href=\"https://colab.research.google.com/github/GiuliaOrgiana/UnicaIsdeTest/blob/main/MNIST_example.ipynb\" target=\"_parent\"><img src=\"https://colab.research.google.com/assets/colab-badge.svg\" alt=\"Open In Colab\"/></a>"
      ]
    },
    {
      "cell_type": "code",
      "metadata": {
        "id": "XNiSP1jvvEgK",
        "colab": {
          "base_uri": "https://localhost:8080/"
        },
        "outputId": "38babc03-2a1c-4427-c7a1-17432e6ba2e8"
      },
      "source": [
        "from sklearn.datasets import fetch_openml\n",
        "mnist = fetch_openml('mnist_784', cache=True)\n",
        "\n",
        "print(mnist.data.shape)"
      ],
      "execution_count": 1,
      "outputs": [
        {
          "output_type": "stream",
          "name": "stdout",
          "text": [
            "(70000, 784)\n"
          ]
        }
      ]
    },
    {
      "cell_type": "code",
      "metadata": {
        "colab": {
          "base_uri": "https://localhost:8080/",
          "height": 348
        },
        "id": "hJIedpU4r8ZU",
        "outputId": "c96d97b2-717f-4d8b-9c88-7bbf0ab62523"
      },
      "source": [
        "import numpy as np\n",
        "import matplotlib.pyplot as plt\n",
        "\n",
        "x = mnist.data\n",
        "y = np.array(mnist.target, dtype=int)\n",
        "print(x.shape, y.shape)\n",
        "\n",
        "print(y[0:10])\n",
        "i=0\n",
        "img = x[0, :].reshape(28,28)\n",
        "print(img.shape)\n",
        "plt.imshow(img, cmap='gray')\n",
        "plt.title(\"Label: \"+ str(y[i]))"
      ],
      "execution_count": 2,
      "outputs": [
        {
          "output_type": "stream",
          "name": "stdout",
          "text": [
            "(70000, 784) (70000,)\n",
            "[5 0 4 1 9 2 1 3 1 4]\n",
            "(28, 28)\n"
          ]
        },
        {
          "output_type": "execute_result",
          "data": {
            "text/plain": [
              "Text(0.5, 1.0, 'Label: 5')"
            ]
          },
          "metadata": {},
          "execution_count": 2
        },
        {
          "output_type": "display_data",
          "data": {
            "image/png": "[encoded data removed]",
            "text/plain": [
              "<Figure size 432x288 with 1 Axes>"
            ]
          },
          "metadata": {
            "needs_background": "light"
          }
        }
      ]
    },
    {
      "cell_type": "code",
      "metadata": {
        "colab": {
          "base_uri": "https://localhost:8080/",
          "height": 308
        },
        "id": "49zNMCAWum1s",
        "outputId": "b3b995d6-fb96-412b-8beb-c6a9c44c6041"
      },
      "source": [
        "def plot_ten_digits(x,y):\n",
        "    plt.figure(figsize=(10,5))\n",
        "    for i in range(10):\n",
        "      plt.subplot(2,5, i+1)\n",
        "      img=x[i,:].reshape(28,28)\n",
        "      plt.imshow(img, cmap='gray')\n",
        "      plt.title(\"Label: \"+ str(y[i]))\n",
        "\n"
      ],
      "execution_count": 3,
      "outputs": [
        {
          "output_type": "display_data",
          "data": {
            "image/png": "[encoded data removed]",
            "text/plain": [
              "<Figure size 720x360 with 10 Axes>"
            ]
          },
          "metadata": {
            "needs_background": "light"
          }
        }
      ]
    },
    {
      "cell_type": "code",
      "metadata": {
        "colab": {
          "base_uri": "https://localhost:8080/",
          "height": 282
        },
        "id": "93xvglW_vpGB",
        "outputId": "6ae2f7b3-6b86-4c77-9172-30087b18ff24"
      },
      "source": [
        "def samples_per_class(y):\n",
        "  class_labels=np.unique(y)\n",
        "  n_classes = class_labels.size\n",
        "  n_samples_per_class= np.zeros(shape=(n_classes, ))\n",
        "\n",
        "  for k in range(n_classes):\n",
        "    n_samples_per_class[k]=np.sum(y==k)\n",
        "\n",
        "  return n_samples_per_class, class_labels\n",
        "\n",
        "n_samples_per_class, class_labels = samples_per_class(y) \n",
        "plt.bar(class_labels,n_samples_per_class)\n",
        "\n"
      ],
      "execution_count": 4,
      "outputs": [
        {
          "output_type": "execute_result",
          "data": {
            "text/plain": [
              "<BarContainer object of 10 artists>"
            ]
          },
          "metadata": {},
          "execution_count": 4
        },
        {
          "output_type": "display_data",
          "data": {
            "image/png": "[encoded data removed]",
            "text/plain": [
              "<Figure size 432x288 with 1 Axes>"
            ]
          },
          "metadata": {
            "needs_background": "light"
          }
        }
      ]
    },
    {
      "cell_type": "code",
      "metadata": {
        "colab": {
          "base_uri": "https://localhost:8080/"
        },
        "id": "I9P-coRiq3P9",
        "outputId": "6969eda9-fd21-4685-b69d-1887bfa0d1ba"
      },
      "source": [
        "#data spits: goal is to split X,y into two disjoint sets. \n",
        "\n",
        "n_samples = x.shape[0]\n",
        "n_tr = 10\n",
        "n_ts = 100\n",
        "idx = np.random.randint(0,n_samples,n_tr)\n",
        "print(idx)\n",
        "#idx = np.array([0,1,4,5])\n",
        "#extract 1000 random imagies from X matrix -> how do I generate this index vector?\n",
        "x_trt=x[idx,:]\n",
        "y_tr = y[idx]\n",
        "\n",
        "print(x_trt, y_tr)\n",
        "#input X,y -> output X_tr, y_tr, X_ts, y_ts\n",
        "# input(0,1,2,3,...6999) -> shuffle -> extract the first n_tr, n_td -<z oputput idx_tr, idx_ts"
      ],
      "execution_count": 5,
      "outputs": [
        {
          "output_type": "stream",
          "name": "stdout",
          "text": [
            "[57479  4815 36522 42463 11226 13066 42885 34416 38778 33213]\n",
            "[[0. 0. 0. ... 0. 0. 0.]\n",
            " [0. 0. 0. ... 0. 0. 0.]\n",
            " [0. 0. 0. ... 0. 0. 0.]\n",
            " ...\n",
            " [0. 0. 0. ... 0. 0. 0.]\n",
            " [0. 0. 0. ... 0. 0. 0.]\n",
            " [0. 0. 0. ... 0. 0. 0.]] [7 1 2 1 6 0 2 0 8 2]\n"
          ]
        }
      ]
    },
    {
      "cell_type": "code",
      "metadata": {
        "colab": {
          "base_uri": "https://localhost:8080/",
          "height": 354
        },
        "id": "dzogUJhxuh-c",
        "outputId": "cd26fadc-6561-404c-9381-0d3ce7cad2aa"
      },
      "source": [
        "\n",
        "n_tr = 50000\n",
        "n_ts = 20000\n",
        "#input X,y -> output X_tr, y_tr, X_ts, y_ts\n",
        "# input(0,1,2,3,...6999) -> shuffle -> extract the first n_tr, n_td -<z oputput idx_tr, idx_ts\n",
        "\n",
        "\n",
        "def split_data(x,y,n_tr, n_ts):\n",
        "  n_samples = x.shape[0]\n",
        "  idx=np.linspace(0,n_samples-1, num=n_samples, dtype=int)\n",
        "  np.random.shuffle(idx)\n",
        "  idx_tr = idx[:n_tr]\n",
        "  idx_ts = idx[n_tr:n_tr+n_ts]\n",
        "  \n",
        "  x_tr = x[idx_tr, :]\n",
        "  y_tr= y[idx_tr]\n",
        "  x_ts = x[idx_ts, :]\n",
        "  y_ts= y[idx_ts]\n",
        "  return x_tr, y_tr, x_ts, y_ts\n",
        "\n",
        "x_tr, y_tr, x_ts, y_ts = split_data(x,y,n_tr,n_ts)\n",
        "print(x_tr.shape, x_ts.shape, y_tr.shape, y_ts.shape)\n",
        "\n",
        "n_tr_samples_per_class, class_labels = samples_per_class(y_tr) \n",
        "n_ts_samples_per_class, class_labels = samples_per_class(y_ts) \n",
        "\n",
        "plt.figure(figsize=(10,5))\n",
        "plt.subplot(1,2,1)\n",
        "plt.bar(class_labels,n_tr_samples_per_class)\n",
        "plt.subplot(1,2,2)\n",
        "plt.bar(class_labels,n_ts_samples_per_class)"
      ],
      "execution_count": 9,
      "outputs": [
        {
          "output_type": "stream",
          "name": "stdout",
          "text": [
            "(50000, 784) (20000, 784) (50000,) (20000,)\n"
          ]
        },
        {
          "output_type": "execute_result",
          "data": {
            "text/plain": [
              "<BarContainer object of 10 artists>"
            ]
          },
          "metadata": {},
          "execution_count": 9
        },
        {
          "output_type": "display_data",
          "data": {
            "image/png": "[encoded data removed]",
            "text/plain": [
              "<Figure size 720x360 with 2 Axes>"
            ]
          },
          "metadata": {
            "needs_background": "light"
          }
        }
      ]
    },
    {
      "cell_type": "code",
      "metadata": {
        "colab": {
          "base_uri": "https://localhost:8080/",
          "height": 325
        },
        "id": "2Wl7ZMsU7GJZ",
        "outputId": "460379c9-7933-43b1-d98f-c6961e78d8e6"
      },
      "source": [
        "n_classes = np.unique(y_tr).size\n",
        "n_features= x_tr.shape[1]\n",
        "centroids = np.zeros(shape=(n_classes, n_features))\n",
        "print(centroids.shape)\n",
        "\n",
        "for k in range(n_classes):\n",
        "  xk=x_tr[y_tr==k, :]\n",
        "  centroids[k, :] = np.mean(xk, axis=0)\n",
        "\n",
        "plt.figure(figsize=(10,5))\n",
        "for k in range(n_classes):\n",
        "    plt.subplot(2,5, k+1)\n",
        "    plt.imshow(centroids[k,:].reshape(28,28), cmap='gray')\n",
        "    plt.title(\"Label \"+ str(k))\n"
      ],
      "execution_count": 18,
      "outputs": [
        {
          "output_type": "stream",
          "name": "stdout",
          "text": [
            "(10, 784)\n"
          ]
        },
        {
          "output_type": "display_data",
          "data": {
            "image/png": "[encoded data removed]",
            "text/plain": [
              "<Figure size 720x360 with 10 Axes>"
            ]
          },
          "metadata": {
            "needs_background": "light"
          }
        }
      ]
    }
  ]
}