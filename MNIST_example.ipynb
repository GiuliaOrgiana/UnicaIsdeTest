{
  "nbformat": 4,
  "nbformat_minor": 0,
  "metadata": {
    "colab": {
      "name": "MNIST-example.ipynb",
      "provenance": [],
      "authorship_tag": "ABX9TyPu0IJv65zLbTs4CJs7egh3",
      "include_colab_link": true
    },
    "kernelspec": {
      "name": "python3",
      "display_name": "Python 3"
    },
    "language_info": {
      "name": "python"
    }
  },
  "cells": [
    {
      "cell_type": "markdown",
      "metadata": {
        "id": "view-in-github",
        "colab_type": "text"
      },
      "source": [
        "<a href=\"https://colab.research.google.com/github/GiuliaOrgiana/UnicaIsdeTest/blob/main/MNIST_example.ipynb\" target=\"_parent\"><img src=\"https://colab.research.google.com/assets/colab-badge.svg\" alt=\"Open In Colab\"/></a>"
      ]
    },
    {
      "cell_type": "code",
      "metadata": {
        "id": "XNiSP1jvvEgK",
        "colab": {
          "base_uri": "https://localhost:8080/"
        },
        "outputId": "55414904-959e-425a-f828-4850d05631b6"
      },
      "source": [
        "from sklearn.datasets import fetch_openml\n",
        "mnist = fetch_openml('mnist_784', cache=True)\n",
        "\n",
        "print(mnist.data.shape)"
      ],
      "execution_count": 1,
      "outputs": [
        {
          "output_type": "stream",
          "name": "stdout",
          "text": [
            "(70000, 784)\n"
          ]
        }
      ]
    },
    {
      "cell_type": "code",
      "metadata": {
        "colab": {
          "base_uri": "https://localhost:8080/",
          "height": 348
        },
        "id": "hJIedpU4r8ZU",
        "outputId": "5423148c-3603-43b0-8aa4-57e121896d76"
      },
      "source": [
        "import numpy as np\n",
        "import matplotlib.pyplot as plt\n",
        "\n",
        "x = mnist.data\n",
        "y = np.array(mnist.target, dtype=int)\n",
        "print(x.shape, y.shape)\n",
        "print(y[0:10])\n",
        "i=0\n",
        "img = x[0, :].reshape(28,28)\n",
        "print(img.shape)\n",
        "plt.imshow(img, cmap='gray')\n",
        "plt.title(\"Label: \"+ str(y[i]))"
      ],
      "execution_count": 7,
      "outputs": [
        {
          "output_type": "stream",
          "name": "stdout",
          "text": [
            "(70000, 784) (70000,)\n",
            "[5 0 4 1 9 2 1 3 1 4]\n",
            "(28, 28)\n"
          ]
        },
        {
          "output_type": "execute_result",
          "data": {
            "text/plain": [
              "Text(0.5, 1.0, 'Label: 5')"
            ]
          },
          "metadata": {},
          "execution_count": 7
        },
        {
          "output_type": "display_data",
          "data": {
            "image/png": "[encoded data removed]",
            "text/plain": [
              "<Figure size 432x288 with 1 Axes>"
            ]
          },
          "metadata": {
            "needs_background": "light"
          }
        }
      ]
    },
    {
      "cell_type": "code",
      "metadata": {
        "colab": {
          "base_uri": "https://localhost:8080/",
          "height": 308
        },
        "id": "49zNMCAWum1s",
        "outputId": "036ba926-31f1-4f3f-c3dc-c18d35f18ca7"
      },
      "source": [
        "plt.figure(figsize=(10,5))\n",
        "for i in range(10):\n",
        "  plt.subplot(2,5, i+1)\n",
        "  img=x[i,:].reshape(28,28)\n",
        "  plt.imshow(img, cmap='gray')\n",
        "  plt.title(\"Label: \"+ str(y[i]))\n",
        "\n"
      ],
      "execution_count": 3,
      "outputs": [
        {
          "output_type": "display_data",
          "data": {
            "image/png": "[encoded data removed]",
            "text/plain": [
              "<Figure size 720x360 with 10 Axes>"
            ]
          },
          "metadata": {
            "needs_background": "light"
          }
        }
      ]
    },
    {
      "cell_type": "code",
      "metadata": {
        "colab": {
          "base_uri": "https://localhost:8080/",
          "height": 332
        },
        "id": "93xvglW_vpGB",
        "outputId": "bcf4c215-84b6-464a-fb2b-b6efd6c40ff4"
      },
      "source": [
        "n_classes =10\n",
        "class_labels=np.unique(y)\n",
        "n_classes = class_labels.size\n",
        "n_samples_per_class= np.zeros(shape=(n_classes, ))\n",
        "print(n_samples_per_class)\n",
        "\n",
        "for k in range(n_classes):\n",
        "  n_samples_per_class[k]=np.sum(y==k)\n",
        "\n",
        "print(n_samples_per_class/ n_samples_per_class.sum())\n",
        "labels = np.unique(y)\n",
        "plt.bar(labels,n_samples_per_class)"
      ],
      "execution_count": 4,
      "outputs": [
        {
          "output_type": "stream",
          "name": "stdout",
          "text": [
            "[0. 0. 0. 0. 0. 0. 0. 0. 0. 0.]\n",
            "[0.09861429 0.11252857 0.09985714 0.10201429 0.09748571 0.09018571\n",
            " 0.09822857 0.10418571 0.0975     0.0994    ]\n"
          ]
        },
        {
          "output_type": "execute_result",
          "data": {
            "text/plain": [
              "<BarContainer object of 10 artists>"
            ]
          },
          "metadata": {},
          "execution_count": 4
        },
        {
          "output_type": "display_data",
          "data": {
            "image/png": "[encoded data removed]",
            "text/plain": [
              "<Figure size 432x288 with 1 Axes>"
            ]
          },
          "metadata": {
            "needs_background": "light"
          }
        }
      ]
    },
    {
      "cell_type": "code",
      "metadata": {
        "colab": {
          "base_uri": "https://localhost:8080/"
        },
        "id": "I9P-coRiq3P9",
        "outputId": "6265987d-2c0b-4fbc-96ee-8818ced0b444"
      },
      "source": [
        "#data spits: goal is to split X,y into two disjoint sets. \n",
        "\n",
        "n_samples = x.shape[0]\n",
        "n_tr = 10\n",
        "n_ts = 100\n",
        "idx = np.random.randint(0,n_samples,n_tr)\n",
        "print(idx)\n",
        "#idx = np.array([0,1,4,5])\n",
        "#extract 1000 random imagies from X matrix -> how do I generate this index vector?\n",
        "x_trt=x[idx,:]\n",
        "y_tr = y[idx]\n",
        "\n",
        "print(x_trt, y_tr)\n",
        "#input X,y -> output X_tr, y_tr, X_ts, y_ts\n",
        "# input(0,1,2,3,...6999) -> shuffle -> extract the first n_tr, n_td -<z oputput idx_tr, idx_ts"
      ],
      "execution_count": 13,
      "outputs": [
        {
          "output_type": "stream",
          "name": "stdout",
          "text": [
            "[25319 57158  7897  5846 16467 29332 61382 45199 48779 26534]\n",
            "[[0. 0. 0. ... 0. 0. 0.]\n",
            " [0. 0. 0. ... 0. 0. 0.]\n",
            " [0. 0. 0. ... 0. 0. 0.]\n",
            " ...\n",
            " [0. 0. 0. ... 0. 0. 0.]\n",
            " [0. 0. 0. ... 0. 0. 0.]\n",
            " [0. 0. 0. ... 0. 0. 0.]] [7 6 2 6 8 9 4 8 4 3]\n"
          ]
        }
      ]
    },
    {
      "cell_type": "code",
      "metadata": {
        "colab": {
          "base_uri": "https://localhost:8080/"
        },
        "id": "dzogUJhxuh-c",
        "outputId": "9041dc7a-020a-48fa-c715-280e62f9a723"
      },
      "source": [
        "\n",
        "n_tr = 10\n",
        "n_ts = 10\n",
        "#input X,y -> output X_tr, y_tr, X_ts, y_ts\n",
        "# input(0,1,2,3,...6999) -> shuffle -> extract the first n_tr, n_td -<z oputput idx_tr, idx_ts\n",
        "\n",
        "\n",
        "def split_data(x,y,n_tr, n_ts):\n",
        "  n_samples = x.shape[0]\n",
        "  idx=np.linspace(0,n_samples-1, num=n_samples, dtype=int)\n",
        "  np.random.shuffle(idx)\n",
        "  idx_tr = idx[:n_tr]\n",
        "  idx_ts = idx[n_tr:n_tr+n_ts]\n",
        "  \n",
        "  x_tr = x[idx_tr, :]\n",
        "  y_tr= y[idx_tr]\n",
        "  x_ts = x[idx_ts, :]\n",
        "  y_ts= y[idx_ts]\n",
        "  return x_tr, y_tr, x_ts, y_ts\n",
        "\n",
        "x_tr, y_tr, x_ts, y_ts = split_data(x,y,n_tr,n_ts)\n",
        "print(x_tr.shape, x_ts.shape, y_tr, y_ts)"
      ],
      "execution_count": 31,
      "outputs": [
        {
          "output_type": "stream",
          "name": "stdout",
          "text": [
            "(10, 784) (10, 784) [1 3 5 2 0 9 2 1 5 0] [8 2 5 3 8 9 0 9 3 8]\n"
          ]
        }
      ]
    }
  ]
}