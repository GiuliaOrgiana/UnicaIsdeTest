{
  "nbformat": 4,
  "nbformat_minor": 0,
  "metadata": {
    "colab": {
      "name": "MNIST-example.ipynb",
      "provenance": [],
      "authorship_tag": "ABX9TyO20JTnlHM1K83MBgrB7Nt2",
      "include_colab_link": true
    },
    "kernelspec": {
      "name": "python3",
      "display_name": "Python 3"
    },
    "language_info": {
      "name": "python"
    }
  },
  "cells": [
    {
      "cell_type": "markdown",
      "metadata": {
        "id": "view-in-github",
        "colab_type": "text"
      },
      "source": [
        "<a href=\"https://colab.research.google.com/github/GiuliaOrgiana/UnicaIsdeTest/blob/main/MNIST_example.ipynb\" target=\"_parent\"><img src=\"https://colab.research.google.com/assets/colab-badge.svg\" alt=\"Open In Colab\"/></a>"
      ]
    },
    {
      "cell_type": "code",
      "metadata": {
        "id": "XNiSP1jvvEgK"
      },
      "source": [
        "from sklearn.datasets import fetch_openml\n",
        "mnist = fetch_openml('mnist_784', cache=True)\n",
        "\n",
        "print(mnist.data.shape)"
      ],
      "execution_count": null,
      "outputs": []
    },
    {
      "cell_type": "code",
      "metadata": {
        "id": "hJIedpU4r8ZU"
      },
      "source": [
        "import numpy as np\n",
        "import matplotlib.pyplot as plt\n",
        "\n",
        "x = mnist.data\n",
        "y = np.array(mnist.target, dtype=int)\n",
        "print(x.shape, y.shape)\n",
        "print(y[0:10])\n",
        "i=0\n",
        "img = x[0, :].reshape(28,28)\n",
        "print(img.shape)\n",
        "plt.imshow(img, cmap='gray')\n",
        "plt.title(\"Label: \"+ str(y[i]))"
      ],
      "execution_count": null,
      "outputs": []
    },
    {
      "cell_type": "code",
      "metadata": {
        "id": "49zNMCAWum1s"
      },
      "source": [
        "plt.figure(figsize=(10,5))\n",
        "for i in range(10):\n",
        "  plt.subplot(2,5, i+1)\n",
        "  img=x[i,:].reshape(28,28)\n",
        "  plt.imshow(img, cmap='gray')\n",
        "  plt.title(\"Label: \"+ str(y[i]))\n",
        "\n"
      ],
      "execution_count": null,
      "outputs": []
    },
    {
      "cell_type": "code",
      "metadata": {
        "id": "93xvglW_vpGB"
      },
      "source": [
        "def samples_per_class(y):\n",
        "  class_labels=np.unique(y)\n",
        "  n_classes = class_labels.size\n",
        "  n_samples_per_class= np.zeros(shape=(n_classes, ))\n",
        "\n",
        "  for k in range(n_classes):\n",
        "    n_samples_per_class[k]=np.sum(y==k)\n",
        "\n",
        "  return n_samples_per_class, class_labels\n",
        "\n",
        "n_samples_per_class, class_labels = samples_per_class(y) \n",
        "plt.bar(class_labels,n_samples_per_class)\n",
        "\n"
      ],
      "execution_count": null,
      "outputs": []
    },
    {
      "cell_type": "code",
      "metadata": {
        "id": "I9P-coRiq3P9"
      },
      "source": [
        "#data spits: goal is to split X,y into two disjoint sets. \n",
        "\n",
        "n_samples = x.shape[0]\n",
        "n_tr = 10\n",
        "n_ts = 100\n",
        "idx = np.random.randint(0,n_samples,n_tr)\n",
        "print(idx)\n",
        "#idx = np.array([0,1,4,5])\n",
        "#extract 1000 random imagies from X matrix -> how do I generate this index vector?\n",
        "x_trt=x[idx,:]\n",
        "y_tr = y[idx]\n",
        "\n",
        "print(x_trt, y_tr)\n",
        "#input X,y -> output X_tr, y_tr, X_ts, y_ts\n",
        "# input(0,1,2,3,...6999) -> shuffle -> extract the first n_tr, n_td -<z oputput idx_tr, idx_ts"
      ],
      "execution_count": null,
      "outputs": []
    },
    {
      "cell_type": "code",
      "metadata": {
        "id": "dzogUJhxuh-c"
      },
      "source": [
        "\n",
        "n_tr = 1000\n",
        "n_ts = 1000\n",
        "#input X,y -> output X_tr, y_tr, X_ts, y_ts\n",
        "# input(0,1,2,3,...6999) -> shuffle -> extract the first n_tr, n_td -<z oputput idx_tr, idx_ts\n",
        "\n",
        "\n",
        "def split_data(x,y,n_tr, n_ts):\n",
        "  n_samples = x.shape[0]\n",
        "  idx=np.linspace(0,n_samples-1, num=n_samples, dtype=int)\n",
        "  np.random.shuffle(idx)\n",
        "  idx_tr = idx[:n_tr]\n",
        "  idx_ts = idx[n_tr:n_tr+n_ts]\n",
        "  \n",
        "  x_tr = x[idx_tr, :]\n",
        "  y_tr= y[idx_tr]\n",
        "  x_ts = x[idx_ts, :]\n",
        "  y_ts= y[idx_ts]\n",
        "  return x_tr, y_tr, x_ts, y_ts\n",
        "\n",
        "x_tr, y_tr, x_ts, y_ts = split_data(x,y,n_tr,n_ts)\n",
        "print(x_tr.shape, x_ts.shape, y_tr.shape, y_ts.shape)\n",
        "\n",
        "n_tr_samples_per_class, class_labels = samples_per_class(y_tr) \n",
        "n_ts_samples_per_class, class_labels = samples_per_class(y_ts) \n",
        "\n",
        "plt.figure(figsize=(10,5))\n",
        "plt.subplot(1,2,1)\n",
        "plt.bar(class_labels,n_tr_samples_per_class)\n",
        "plt.subplot(1,2,2)\n",
        "plt.bar(class_labels,n_ts_samples_per_class)"
      ],
      "execution_count": null,
      "outputs": []
    },
    {
      "cell_type": "code",
      "metadata": {
        "id": "2Wl7ZMsU7GJZ"
      },
      "source": [
        "n_classes = np.unique(y_tr).size\n",
        "n_features= x_tr.shape[1]\n",
        "centroids = np.zeros(shape=(n_classes, n_features))\n",
        "print(centroids.shape)\n",
        "\n",
        "x0=x_tr[y_Tr==0, :]"
      ],
      "execution_count": null,
      "outputs": []
    }
  ]
}